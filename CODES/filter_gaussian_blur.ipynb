{
 "cells": [
  {
   "cell_type": "code",
   "execution_count": 1,
   "metadata": {},
   "outputs": [],
   "source": [
    "#OpenCV use as cv2 in python\n",
    "# Import libraries\n",
    "import numpy as np #convert show image/video in shapes/array\n",
    "#i.e. width, height, color etc\n",
    "import cv2 as cv"
   ]
  },
  {
   "cell_type": "code",
   "execution_count": 2,
   "metadata": {},
   "outputs": [],
   "source": [
    "#how to read an image\n",
    "image = cv.imread(\"Mountain.jpg\")\n",
    "\n",
    "# Apply Gaussian blur\n",
    "blurred_image = cv.GaussianBlur(image, (5, 5), 0)  # You can adjust the kernel size (e.g., (5, 5)) and standard deviation (0) as needed\n",
    "\n",
    "# Display the original and blurred images\n",
    "cv.imshow('Original Image', image)\n",
    "cv.imshow('Blurred Image', blurred_image)\n",
    "cv.waitKey(0)\n",
    "cv.destroyAllWindows()\n"
   ]
  },
  {
   "cell_type": "markdown",
   "metadata": {},
   "source": [
    "### Laplacian of Gaussian (LoG) filter"
   ]
  },
  {
   "cell_type": "code",
   "execution_count": 4,
   "metadata": {},
   "outputs": [],
   "source": [
    "import cv2 as cv\n",
    "\n",
    "# Load the image\n",
    "image = cv.imread('Mountain.jpg', cv.IMREAD_GRAYSCALE)\n",
    "\n",
    " \n",
    "# Apply Gaussian blur\n",
    "gaussian_image = cv.GaussianBlur(image, (5, 5), 0)\n",
    "\n",
    "# Apply Laplacian filter\n",
    "laplacian_image = cv.Laplacian(gaussian_image, cv.CV_64F)\n",
    "\n",
    "# Convert Laplacian result back to uint8\n",
    "laplacian_image_uint8 = cv.convertScaleAbs(laplacian_image)\n",
    "\n",
    "# Display the original, blurred, and Laplacian images\n",
    "cv.imshow('Original Image', image)\n",
    "cv.imshow('Gaussian Image', gaussian_image)\n",
    "cv.imshow('Laplacian Image', laplacian_image_uint8)\n",
    "cv.waitKey(0)\n",
    "cv.destroyAllWindows()\n"
   ]
  }
 ],
 "metadata": {
  "kernelspec": {
   "display_name": "Python 3",
   "language": "python",
   "name": "python3"
  },
  "language_info": {
   "codemirror_mode": {
    "name": "ipython",
    "version": 3
   },
   "file_extension": ".py",
   "mimetype": "text/x-python",
   "name": "python",
   "nbconvert_exporter": "python",
   "pygments_lexer": "ipython3",
   "version": "3.11.5"
  }
 },
 "nbformat": 4,
 "nbformat_minor": 2
}
